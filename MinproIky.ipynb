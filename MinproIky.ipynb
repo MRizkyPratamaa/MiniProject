{
  "cells": [
    {
      "cell_type": "markdown",
      "metadata": {
        "id": "view-in-github",
        "colab_type": "text"
      },
      "source": [
        "<a href=\"https://colab.research.google.com/github/MRizkyPratamaa/MiniProject/blob/main/MinproIky.ipynb\" target=\"_parent\"><img src=\"https://colab.research.google.com/assets/colab-badge.svg\" alt=\"Open In Colab\"/></a>"
      ]
    },
    {
      "cell_type": "markdown",
      "source": [
        "## 1. Data Preprocessing"
      ],
      "metadata": {
        "id": "TFN6Of7TWe57"
      }
    },
    {
      "cell_type": "markdown",
      "source": [
        "## Overview\n",
        "\n",
        "Practice for Data Analytic Class in Merdeka Belajar \n",
        "\n",
        "## Objecive\n",
        "\n",
        "• Retrieving data \n",
        "\n",
        "• Cleansing, integrating\n",
        "dan transforming data\n",
        "\n",
        "• Data Preparation\n",
        "\n",
        "• Exploratory Data\n",
        "Analysis\n",
        "\n",
        "• Data Visualization\n"
      ],
      "metadata": {
        "id": "cvS878SumIw0"
      }
    },
    {
      "cell_type": "markdown",
      "source": [
        "**About Dataset**\n",
        "\n",
        "This is a snapshot of a dataset created by Tony Pin on Melbourne real estate data. It was scraped from publicly available results posted every week from Domain.com.au. The dataset includes Address, Type of Real estate, Suburb, Method of Selling, Rooms, Price, Real Estate Agent, Date of Sale and distance from C.B.D.\n",
        "\n",
        "This is intended as a static (unchanging) snapshot of https://www.kaggle.com/anthonypino/melbourne-housing-market. It was created in September 2017. Additionally, homes with no Price have been removed.\n",
        "\n",
        "Dataset description & download https://www.kaggle.com/datasets/dansbecker/melbourne-housing-snapshot"
      ],
      "metadata": {
        "id": "0EcHLMXgZr5f"
      }
    },
    {
      "cell_type": "markdown",
      "source": [
        "**1.1 Importing Library**"
      ],
      "metadata": {
        "id": "IADUBKDnWr3s"
      }
    },
    {
      "cell_type": "code",
      "execution_count": 7,
      "metadata": {
        "id": "CvNhhTZtGoGV"
      },
      "outputs": [],
      "source": [
        "import pandas as pd\n",
        "import numpy as np\n",
        "import matplotlib.pyplot as plt\n",
        "from sklearn.preprocessing import LabelEncoder\n",
        "\n",
        "from sklearn.model_selection import train_test_split\n",
        "from sklearn.model_selection import cross_val_score\n",
        "from sklearn.model_selection import KFold\n",
        "from sklearn.metrics import accuracy_score"
      ]
    },
    {
      "cell_type": "markdown",
      "source": [
        "**1.2 Importing Dataset**"
      ],
      "metadata": {
        "id": "Ydt444CDW46r"
      }
    },
    {
      "cell_type": "code",
      "execution_count": 6,
      "metadata": {
        "id": "SpkeEnsdTfH3",
        "colab": {
          "base_uri": "https://localhost:8080/"
        },
        "outputId": "192b203d-1161-493d-dcbc-e20ac1edc727"
      },
      "outputs": [
        {
          "output_type": "stream",
          "name": "stdout",
          "text": [
            "/usr/local/lib/python3.10/dist-packages/gdown/cli.py:121: FutureWarning: Option `--id` was deprecated in version 4.3.1 and will be removed in 5.0. You don't need to pass it anymore to use a file ID.\n",
            "  warnings.warn(\n",
            "Downloading...\n",
            "From: https://drive.google.com/uc?id=1v_z8bHhevrSH2aJ_gj1vKgstu12cnAQJ\n",
            "To: /content/tiktok_google_play_reviews.csv\n",
            "100% 97.5M/97.5M [00:01<00:00, 89.3MB/s]\n"
          ]
        }
      ],
      "source": [
        "!gdown --id 1v_z8bHhevrSH2aJ_gj1vKgstu12cnAQJ"
      ]
    },
    {
      "cell_type": "code",
      "source": [
        "import pandas as pd\n",
        "dataset = pd.read_csv('tiktok_google_play_reviews.csv')\n",
        "dataset"
      ],
      "metadata": {
        "colab": {
          "base_uri": "https://localhost:8080/",
          "height": 676
        },
        "id": "N0fME_84YBzx",
        "outputId": "a6def3e8-186a-48f2-aea9-2b359d38245a"
      },
      "execution_count": 8,
      "outputs": [
        {
          "output_type": "stream",
          "name": "stderr",
          "text": [
            "<ipython-input-8-5b6883ae9861>:2: DtypeWarning: Columns (8,9) have mixed types. Specify dtype option on import or set low_memory=False.\n",
            "  dataset = pd.read_csv('tiktok_google_play_reviews.csv')\n"
          ]
        },
        {
          "output_type": "execute_result",
          "data": {
            "text/plain": [
              "                                    reviewId              userName  \\\n",
              "0       68ccaec8-1415-4301-a85e-3004679a3a83          Cassie Moore   \n",
              "1       d84cbfd3-6aa3-485c-aaf9-c5dca27dc966         Kaleb Plummer   \n",
              "2       96618aa1-31e5-4259-8649-89b75d962f00           Rylee Maher   \n",
              "3       078c0bda-598b-474e-a04e-d7cb3e6f6301  Kittykatelyn Romilly   \n",
              "4       8e68c5cd-b12a-4206-a8da-6bfdbff44ae3      Loveness Malenga   \n",
              "...                                      ...                   ...   \n",
              "460282  73cf78fe-599d-4488-8a8b-ae443847303b           hera killar   \n",
              "460283  16d331c8-ba21-4aeb-ac01-dec455ca48ad        Hiox Softwares   \n",
              "460284  fbb86777-b885-4f76-b49e-13e424aa5afc       Md. Zahid Hasan   \n",
              "460285  28df682c-bb17-4224-8658-642a92a2c723              Ash Ryan   \n",
              "460286  1cfbb2b3-fb0b-4f4b-8963-9e2b803f24dc           Haroon Jaan   \n",
              "\n",
              "                                                userImage  \\\n",
              "0       https://play-lh.googleusercontent.com/a/ALm5wu...   \n",
              "1       https://play-lh.googleusercontent.com/a-/ACNPE...   \n",
              "2       https://play-lh.googleusercontent.com/a/ALm5wu...   \n",
              "3       https://play-lh.googleusercontent.com/a-/ACNPE...   \n",
              "4       https://play-lh.googleusercontent.com/a-/ACNPE...   \n",
              "...                                                   ...   \n",
              "460282  https://play-lh.googleusercontent.com/a-/ACNPE...   \n",
              "460283  https://play-lh.googleusercontent.com/a/ALm5wu...   \n",
              "460284  https://play-lh.googleusercontent.com/a-/ACNPE...   \n",
              "460285  https://play-lh.googleusercontent.com/a-/ACNPE...   \n",
              "460286  https://play-lh.googleusercontent.com/a/ALm5wu...   \n",
              "\n",
              "                                                  content  score  \\\n",
              "0                                                No words      5   \n",
              "1                                   Great fun app so far!      5   \n",
              "2       The app would get a higher rating but I litera...      1   \n",
              "3       I WISH I COULD GIVE THIS A 100 PERCENT RATING ...      5   \n",
              "4                                     Pictures and record      5   \n",
              "...                                                   ...    ...   \n",
              "460282                                                 😍😍      5   \n",
              "460283                                          Very nice      1   \n",
              "460284                                               Nice      5   \n",
              "460285                               TikTok love your sad      5   \n",
              "460286                             Good to use haroon_231      5   \n",
              "\n",
              "        thumbsUpCount reviewCreatedVersion                   at replyContent  \\\n",
              "0                   0               27.1.3  2022-11-29 21:55:37          NaN   \n",
              "1                   0                  NaN  2022-11-29 21:55:04          NaN   \n",
              "2                   0               27.1.3  2022-11-29 21:54:48          NaN   \n",
              "3                   0                  NaN  2022-11-29 21:54:35          NaN   \n",
              "4                   0                  NaN  2022-11-29 21:54:21          NaN   \n",
              "...               ...                  ...                  ...          ...   \n",
              "460282              0                  NaN  2022-06-18 12:35:32          NaN   \n",
              "460283              0                  NaN  2022-06-18 12:35:25          NaN   \n",
              "460284              0               24.8.3  2022-06-18 12:34:39          NaN   \n",
              "460285              0                  NaN  2022-06-18 12:34:38          NaN   \n",
              "460286              0               24.8.3  2022-06-18 12:34:32          NaN   \n",
              "\n",
              "       repliedAt  \n",
              "0            NaN  \n",
              "1            NaN  \n",
              "2            NaN  \n",
              "3            NaN  \n",
              "4            NaN  \n",
              "...          ...  \n",
              "460282       NaN  \n",
              "460283       NaN  \n",
              "460284       NaN  \n",
              "460285       NaN  \n",
              "460286       NaN  \n",
              "\n",
              "[460287 rows x 10 columns]"
            ],
            "text/html": [
              "\n",
              "  <div id=\"df-bd692781-5738-4611-b04c-c14d6e345241\">\n",
              "    <div class=\"colab-df-container\">\n",
              "      <div>\n",
              "<style scoped>\n",
              "    .dataframe tbody tr th:only-of-type {\n",
              "        vertical-align: middle;\n",
              "    }\n",
              "\n",
              "    .dataframe tbody tr th {\n",
              "        vertical-align: top;\n",
              "    }\n",
              "\n",
              "    .dataframe thead th {\n",
              "        text-align: right;\n",
              "    }\n",
              "</style>\n",
              "<table border=\"1\" class=\"dataframe\">\n",
              "  <thead>\n",
              "    <tr style=\"text-align: right;\">\n",
              "      <th></th>\n",
              "      <th>reviewId</th>\n",
              "      <th>userName</th>\n",
              "      <th>userImage</th>\n",
              "      <th>content</th>\n",
              "      <th>score</th>\n",
              "      <th>thumbsUpCount</th>\n",
              "      <th>reviewCreatedVersion</th>\n",
              "      <th>at</th>\n",
              "      <th>replyContent</th>\n",
              "      <th>repliedAt</th>\n",
              "    </tr>\n",
              "  </thead>\n",
              "  <tbody>\n",
              "    <tr>\n",
              "      <th>0</th>\n",
              "      <td>68ccaec8-1415-4301-a85e-3004679a3a83</td>\n",
              "      <td>Cassie Moore</td>\n",
              "      <td>https://play-lh.googleusercontent.com/a/ALm5wu...</td>\n",
              "      <td>No words</td>\n",
              "      <td>5</td>\n",
              "      <td>0</td>\n",
              "      <td>27.1.3</td>\n",
              "      <td>2022-11-29 21:55:37</td>\n",
              "      <td>NaN</td>\n",
              "      <td>NaN</td>\n",
              "    </tr>\n",
              "    <tr>\n",
              "      <th>1</th>\n",
              "      <td>d84cbfd3-6aa3-485c-aaf9-c5dca27dc966</td>\n",
              "      <td>Kaleb Plummer</td>\n",
              "      <td>https://play-lh.googleusercontent.com/a-/ACNPE...</td>\n",
              "      <td>Great fun app so far!</td>\n",
              "      <td>5</td>\n",
              "      <td>0</td>\n",
              "      <td>NaN</td>\n",
              "      <td>2022-11-29 21:55:04</td>\n",
              "      <td>NaN</td>\n",
              "      <td>NaN</td>\n",
              "    </tr>\n",
              "    <tr>\n",
              "      <th>2</th>\n",
              "      <td>96618aa1-31e5-4259-8649-89b75d962f00</td>\n",
              "      <td>Rylee Maher</td>\n",
              "      <td>https://play-lh.googleusercontent.com/a/ALm5wu...</td>\n",
              "      <td>The app would get a higher rating but I litera...</td>\n",
              "      <td>1</td>\n",
              "      <td>0</td>\n",
              "      <td>27.1.3</td>\n",
              "      <td>2022-11-29 21:54:48</td>\n",
              "      <td>NaN</td>\n",
              "      <td>NaN</td>\n",
              "    </tr>\n",
              "    <tr>\n",
              "      <th>3</th>\n",
              "      <td>078c0bda-598b-474e-a04e-d7cb3e6f6301</td>\n",
              "      <td>Kittykatelyn Romilly</td>\n",
              "      <td>https://play-lh.googleusercontent.com/a-/ACNPE...</td>\n",
              "      <td>I WISH I COULD GIVE THIS A 100 PERCENT RATING ...</td>\n",
              "      <td>5</td>\n",
              "      <td>0</td>\n",
              "      <td>NaN</td>\n",
              "      <td>2022-11-29 21:54:35</td>\n",
              "      <td>NaN</td>\n",
              "      <td>NaN</td>\n",
              "    </tr>\n",
              "    <tr>\n",
              "      <th>4</th>\n",
              "      <td>8e68c5cd-b12a-4206-a8da-6bfdbff44ae3</td>\n",
              "      <td>Loveness Malenga</td>\n",
              "      <td>https://play-lh.googleusercontent.com/a-/ACNPE...</td>\n",
              "      <td>Pictures and record</td>\n",
              "      <td>5</td>\n",
              "      <td>0</td>\n",
              "      <td>NaN</td>\n",
              "      <td>2022-11-29 21:54:21</td>\n",
              "      <td>NaN</td>\n",
              "      <td>NaN</td>\n",
              "    </tr>\n",
              "    <tr>\n",
              "      <th>...</th>\n",
              "      <td>...</td>\n",
              "      <td>...</td>\n",
              "      <td>...</td>\n",
              "      <td>...</td>\n",
              "      <td>...</td>\n",
              "      <td>...</td>\n",
              "      <td>...</td>\n",
              "      <td>...</td>\n",
              "      <td>...</td>\n",
              "      <td>...</td>\n",
              "    </tr>\n",
              "    <tr>\n",
              "      <th>460282</th>\n",
              "      <td>73cf78fe-599d-4488-8a8b-ae443847303b</td>\n",
              "      <td>hera killar</td>\n",
              "      <td>https://play-lh.googleusercontent.com/a-/ACNPE...</td>\n",
              "      <td>😍😍</td>\n",
              "      <td>5</td>\n",
              "      <td>0</td>\n",
              "      <td>NaN</td>\n",
              "      <td>2022-06-18 12:35:32</td>\n",
              "      <td>NaN</td>\n",
              "      <td>NaN</td>\n",
              "    </tr>\n",
              "    <tr>\n",
              "      <th>460283</th>\n",
              "      <td>16d331c8-ba21-4aeb-ac01-dec455ca48ad</td>\n",
              "      <td>Hiox Softwares</td>\n",
              "      <td>https://play-lh.googleusercontent.com/a/ALm5wu...</td>\n",
              "      <td>Very nice</td>\n",
              "      <td>1</td>\n",
              "      <td>0</td>\n",
              "      <td>NaN</td>\n",
              "      <td>2022-06-18 12:35:25</td>\n",
              "      <td>NaN</td>\n",
              "      <td>NaN</td>\n",
              "    </tr>\n",
              "    <tr>\n",
              "      <th>460284</th>\n",
              "      <td>fbb86777-b885-4f76-b49e-13e424aa5afc</td>\n",
              "      <td>Md. Zahid Hasan</td>\n",
              "      <td>https://play-lh.googleusercontent.com/a-/ACNPE...</td>\n",
              "      <td>Nice</td>\n",
              "      <td>5</td>\n",
              "      <td>0</td>\n",
              "      <td>24.8.3</td>\n",
              "      <td>2022-06-18 12:34:39</td>\n",
              "      <td>NaN</td>\n",
              "      <td>NaN</td>\n",
              "    </tr>\n",
              "    <tr>\n",
              "      <th>460285</th>\n",
              "      <td>28df682c-bb17-4224-8658-642a92a2c723</td>\n",
              "      <td>Ash Ryan</td>\n",
              "      <td>https://play-lh.googleusercontent.com/a-/ACNPE...</td>\n",
              "      <td>TikTok love your sad</td>\n",
              "      <td>5</td>\n",
              "      <td>0</td>\n",
              "      <td>NaN</td>\n",
              "      <td>2022-06-18 12:34:38</td>\n",
              "      <td>NaN</td>\n",
              "      <td>NaN</td>\n",
              "    </tr>\n",
              "    <tr>\n",
              "      <th>460286</th>\n",
              "      <td>1cfbb2b3-fb0b-4f4b-8963-9e2b803f24dc</td>\n",
              "      <td>Haroon Jaan</td>\n",
              "      <td>https://play-lh.googleusercontent.com/a/ALm5wu...</td>\n",
              "      <td>Good to use haroon_231</td>\n",
              "      <td>5</td>\n",
              "      <td>0</td>\n",
              "      <td>24.8.3</td>\n",
              "      <td>2022-06-18 12:34:32</td>\n",
              "      <td>NaN</td>\n",
              "      <td>NaN</td>\n",
              "    </tr>\n",
              "  </tbody>\n",
              "</table>\n",
              "<p>460287 rows × 10 columns</p>\n",
              "</div>\n",
              "      <button class=\"colab-df-convert\" onclick=\"convertToInteractive('df-bd692781-5738-4611-b04c-c14d6e345241')\"\n",
              "              title=\"Convert this dataframe to an interactive table.\"\n",
              "              style=\"display:none;\">\n",
              "        \n",
              "  <svg xmlns=\"http://www.w3.org/2000/svg\" height=\"24px\"viewBox=\"0 0 24 24\"\n",
              "       width=\"24px\">\n",
              "    <path d=\"M0 0h24v24H0V0z\" fill=\"none\"/>\n",
              "    <path d=\"M18.56 5.44l.94 2.06.94-2.06 2.06-.94-2.06-.94-.94-2.06-.94 2.06-2.06.94zm-11 1L8.5 8.5l.94-2.06 2.06-.94-2.06-.94L8.5 2.5l-.94 2.06-2.06.94zm10 10l.94 2.06.94-2.06 2.06-.94-2.06-.94-.94-2.06-.94 2.06-2.06.94z\"/><path d=\"M17.41 7.96l-1.37-1.37c-.4-.4-.92-.59-1.43-.59-.52 0-1.04.2-1.43.59L10.3 9.45l-7.72 7.72c-.78.78-.78 2.05 0 2.83L4 21.41c.39.39.9.59 1.41.59.51 0 1.02-.2 1.41-.59l7.78-7.78 2.81-2.81c.8-.78.8-2.07 0-2.86zM5.41 20L4 18.59l7.72-7.72 1.47 1.35L5.41 20z\"/>\n",
              "  </svg>\n",
              "      </button>\n",
              "      \n",
              "  <style>\n",
              "    .colab-df-container {\n",
              "      display:flex;\n",
              "      flex-wrap:wrap;\n",
              "      gap: 12px;\n",
              "    }\n",
              "\n",
              "    .colab-df-convert {\n",
              "      background-color: #E8F0FE;\n",
              "      border: none;\n",
              "      border-radius: 50%;\n",
              "      cursor: pointer;\n",
              "      display: none;\n",
              "      fill: #1967D2;\n",
              "      height: 32px;\n",
              "      padding: 0 0 0 0;\n",
              "      width: 32px;\n",
              "    }\n",
              "\n",
              "    .colab-df-convert:hover {\n",
              "      background-color: #E2EBFA;\n",
              "      box-shadow: 0px 1px 2px rgba(60, 64, 67, 0.3), 0px 1px 3px 1px rgba(60, 64, 67, 0.15);\n",
              "      fill: #174EA6;\n",
              "    }\n",
              "\n",
              "    [theme=dark] .colab-df-convert {\n",
              "      background-color: #3B4455;\n",
              "      fill: #D2E3FC;\n",
              "    }\n",
              "\n",
              "    [theme=dark] .colab-df-convert:hover {\n",
              "      background-color: #434B5C;\n",
              "      box-shadow: 0px 1px 3px 1px rgba(0, 0, 0, 0.15);\n",
              "      filter: drop-shadow(0px 1px 2px rgba(0, 0, 0, 0.3));\n",
              "      fill: #FFFFFF;\n",
              "    }\n",
              "  </style>\n",
              "\n",
              "      <script>\n",
              "        const buttonEl =\n",
              "          document.querySelector('#df-bd692781-5738-4611-b04c-c14d6e345241 button.colab-df-convert');\n",
              "        buttonEl.style.display =\n",
              "          google.colab.kernel.accessAllowed ? 'block' : 'none';\n",
              "\n",
              "        async function convertToInteractive(key) {\n",
              "          const element = document.querySelector('#df-bd692781-5738-4611-b04c-c14d6e345241');\n",
              "          const dataTable =\n",
              "            await google.colab.kernel.invokeFunction('convertToInteractive',\n",
              "                                                     [key], {});\n",
              "          if (!dataTable) return;\n",
              "\n",
              "          const docLinkHtml = 'Like what you see? Visit the ' +\n",
              "            '<a target=\"_blank\" href=https://colab.research.google.com/notebooks/data_table.ipynb>data table notebook</a>'\n",
              "            + ' to learn more about interactive tables.';\n",
              "          element.innerHTML = '';\n",
              "          dataTable['output_type'] = 'display_data';\n",
              "          await google.colab.output.renderOutput(dataTable, element);\n",
              "          const docLink = document.createElement('div');\n",
              "          docLink.innerHTML = docLinkHtml;\n",
              "          element.appendChild(docLink);\n",
              "        }\n",
              "      </script>\n",
              "    </div>\n",
              "  </div>\n",
              "  "
            ]
          },
          "metadata": {},
          "execution_count": 8
        }
      ]
    },
    {
      "cell_type": "markdown",
      "source": [
        "## 2. Exploratory Data"
      ],
      "metadata": {
        "id": "UDDwMkOVdAS-"
      }
    },
    {
      "cell_type": "code",
      "source": [
        "dataset.shape"
      ],
      "metadata": {
        "colab": {
          "base_uri": "https://localhost:8080/"
        },
        "id": "gfY3IjMzdDsN",
        "outputId": "036bacb3-f212-4315-a3ff-8f4d8e0163cc"
      },
      "execution_count": 9,
      "outputs": [
        {
          "output_type": "execute_result",
          "data": {
            "text/plain": [
              "(460287, 10)"
            ]
          },
          "metadata": {},
          "execution_count": 9
        }
      ]
    },
    {
      "cell_type": "code",
      "source": [
        "dataset.columns"
      ],
      "metadata": {
        "colab": {
          "base_uri": "https://localhost:8080/"
        },
        "id": "v2bT3bcCdad5",
        "outputId": "0d5a7363-308c-4063-b99a-09beb560ff04"
      },
      "execution_count": 10,
      "outputs": [
        {
          "output_type": "execute_result",
          "data": {
            "text/plain": [
              "Index(['reviewId', 'userName', 'userImage', 'content', 'score',\n",
              "       'thumbsUpCount', 'reviewCreatedVersion', 'at', 'replyContent',\n",
              "       'repliedAt'],\n",
              "      dtype='object')"
            ]
          },
          "metadata": {},
          "execution_count": 10
        }
      ]
    },
    {
      "cell_type": "code",
      "source": [
        "dataset.dtypes"
      ],
      "metadata": {
        "colab": {
          "base_uri": "https://localhost:8080/"
        },
        "id": "DGucyPqGdstV",
        "outputId": "4755c636-4b0f-4a3f-f1f2-6bb57bfdb703"
      },
      "execution_count": 11,
      "outputs": [
        {
          "output_type": "execute_result",
          "data": {
            "text/plain": [
              "reviewId                object\n",
              "userName                object\n",
              "userImage               object\n",
              "content                 object\n",
              "score                    int64\n",
              "thumbsUpCount            int64\n",
              "reviewCreatedVersion    object\n",
              "at                      object\n",
              "replyContent            object\n",
              "repliedAt               object\n",
              "dtype: object"
            ]
          },
          "metadata": {},
          "execution_count": 11
        }
      ]
    },
    {
      "cell_type": "code",
      "source": [
        "dataset.info()"
      ],
      "metadata": {
        "colab": {
          "base_uri": "https://localhost:8080/"
        },
        "id": "R5lpoJMgdqdl",
        "outputId": "ddaa8c3d-55e2-4b8c-f900-d40ecc349971"
      },
      "execution_count": 12,
      "outputs": [
        {
          "output_type": "stream",
          "name": "stdout",
          "text": [
            "<class 'pandas.core.frame.DataFrame'>\n",
            "RangeIndex: 460287 entries, 0 to 460286\n",
            "Data columns (total 10 columns):\n",
            " #   Column                Non-Null Count   Dtype \n",
            "---  ------                --------------   ----- \n",
            " 0   reviewId              460287 non-null  object\n",
            " 1   userName              460287 non-null  object\n",
            " 2   userImage             460287 non-null  object\n",
            " 3   content               460271 non-null  object\n",
            " 4   score                 460287 non-null  int64 \n",
            " 5   thumbsUpCount         460287 non-null  int64 \n",
            " 6   reviewCreatedVersion  333953 non-null  object\n",
            " 7   at                    460287 non-null  object\n",
            " 8   replyContent          260 non-null     object\n",
            " 9   repliedAt             260 non-null     object\n",
            "dtypes: int64(2), object(8)\n",
            "memory usage: 35.1+ MB\n"
          ]
        }
      ]
    },
    {
      "cell_type": "code",
      "source": [
        "dataset.nunique()"
      ],
      "metadata": {
        "colab": {
          "base_uri": "https://localhost:8080/"
        },
        "id": "iAJrbGiuf-8c",
        "outputId": "25f1014d-af20-4f30-88b0-f0bc850d876b"
      },
      "execution_count": 13,
      "outputs": [
        {
          "output_type": "execute_result",
          "data": {
            "text/plain": [
              "reviewId                460287\n",
              "userName                406759\n",
              "userImage               458973\n",
              "content                 278477\n",
              "score                        5\n",
              "thumbsUpCount              692\n",
              "reviewCreatedVersion       631\n",
              "at                      452242\n",
              "replyContent                81\n",
              "repliedAt                  260\n",
              "dtype: int64"
            ]
          },
          "metadata": {},
          "execution_count": 13
        }
      ]
    },
    {
      "cell_type": "markdown",
      "source": [
        "**2.1 Handling Missing Value**"
      ],
      "metadata": {
        "id": "SsvcPPw9ekvS"
      }
    },
    {
      "cell_type": "markdown",
      "source": [
        "Let's assume unknown value as missing value since unknown means not known or no values"
      ],
      "metadata": {
        "id": "tkkOl04Ee_xV"
      }
    },
    {
      "cell_type": "code",
      "source": [
        "dataset.isnull().sum()"
      ],
      "metadata": {
        "colab": {
          "base_uri": "https://localhost:8080/"
        },
        "id": "rsrJsSO8fW7M",
        "outputId": "a02d99d6-c1eb-45bf-cbad-f3fa9cb73bbb"
      },
      "execution_count": 14,
      "outputs": [
        {
          "output_type": "execute_result",
          "data": {
            "text/plain": [
              "reviewId                     0\n",
              "userName                     0\n",
              "userImage                    0\n",
              "content                     16\n",
              "score                        0\n",
              "thumbsUpCount                0\n",
              "reviewCreatedVersion    126334\n",
              "at                           0\n",
              "replyContent            460027\n",
              "repliedAt               460027\n",
              "dtype: int64"
            ]
          },
          "metadata": {},
          "execution_count": 14
        }
      ]
    },
    {
      "cell_type": "code",
      "source": [
        "dataset['content'].dtypes"
      ],
      "metadata": {
        "colab": {
          "base_uri": "https://localhost:8080/"
        },
        "id": "hw2FxOlorXI8",
        "outputId": "66db22fc-3588-4f33-a8d4-cb0b4e3923cd"
      },
      "execution_count": 15,
      "outputs": [
        {
          "output_type": "execute_result",
          "data": {
            "text/plain": [
              "dtype('O')"
            ]
          },
          "metadata": {},
          "execution_count": 15
        }
      ]
    },
    {
      "cell_type": "code",
      "source": [
        "dataset['reviewCreatedVersion'].dtypes"
      ],
      "metadata": {
        "colab": {
          "base_uri": "https://localhost:8080/"
        },
        "id": "1ZQ3-sq0rg0J",
        "outputId": "6114b99d-4fa3-4ead-8146-4a7d115228d3"
      },
      "execution_count": 16,
      "outputs": [
        {
          "output_type": "execute_result",
          "data": {
            "text/plain": [
              "dtype('O')"
            ]
          },
          "metadata": {},
          "execution_count": 16
        }
      ]
    },
    {
      "cell_type": "code",
      "source": [
        "dataset['replyContent'].dtypes"
      ],
      "metadata": {
        "colab": {
          "base_uri": "https://localhost:8080/"
        },
        "id": "VMWvLZjcrkuY",
        "outputId": "80daf2cd-069e-41d6-93b3-b41b5098b413"
      },
      "execution_count": 17,
      "outputs": [
        {
          "output_type": "execute_result",
          "data": {
            "text/plain": [
              "dtype('O')"
            ]
          },
          "metadata": {},
          "execution_count": 17
        }
      ]
    },
    {
      "cell_type": "code",
      "source": [
        "dataset['repliedAt'].dtypes"
      ],
      "metadata": {
        "colab": {
          "base_uri": "https://localhost:8080/"
        },
        "id": "TDKDGdswrlUm",
        "outputId": "303f5406-959a-49ee-b639-2bf09d2eaff0"
      },
      "execution_count": 18,
      "outputs": [
        {
          "output_type": "execute_result",
          "data": {
            "text/plain": [
              "dtype('O')"
            ]
          },
          "metadata": {},
          "execution_count": 18
        }
      ]
    },
    {
      "cell_type": "markdown",
      "source": [
        "Perform imputer to handle missing value in numerical data"
      ],
      "metadata": {
        "id": "v6QJEYLbpcpG"
      }
    },
    {
      "cell_type": "code",
      "source": [
        "from sklearn.impute import SimpleImputer\n",
        "imputer = SimpleImputer(missing_values= np.nan, strategy='mean')\n",
        "imputer"
      ],
      "metadata": {
        "colab": {
          "base_uri": "https://localhost:8080/",
          "height": 75
        },
        "id": "02J19YzBjpuO",
        "outputId": "2e7ce6f8-04c5-4514-d018-89a7bd76ff40"
      },
      "execution_count": 19,
      "outputs": [
        {
          "output_type": "execute_result",
          "data": {
            "text/plain": [
              "SimpleImputer()"
            ],
            "text/html": [
              "<style>#sk-container-id-1 {color: black;background-color: white;}#sk-container-id-1 pre{padding: 0;}#sk-container-id-1 div.sk-toggleable {background-color: white;}#sk-container-id-1 label.sk-toggleable__label {cursor: pointer;display: block;width: 100%;margin-bottom: 0;padding: 0.3em;box-sizing: border-box;text-align: center;}#sk-container-id-1 label.sk-toggleable__label-arrow:before {content: \"▸\";float: left;margin-right: 0.25em;color: #696969;}#sk-container-id-1 label.sk-toggleable__label-arrow:hover:before {color: black;}#sk-container-id-1 div.sk-estimator:hover label.sk-toggleable__label-arrow:before {color: black;}#sk-container-id-1 div.sk-toggleable__content {max-height: 0;max-width: 0;overflow: hidden;text-align: left;background-color: #f0f8ff;}#sk-container-id-1 div.sk-toggleable__content pre {margin: 0.2em;color: black;border-radius: 0.25em;background-color: #f0f8ff;}#sk-container-id-1 input.sk-toggleable__control:checked~div.sk-toggleable__content {max-height: 200px;max-width: 100%;overflow: auto;}#sk-container-id-1 input.sk-toggleable__control:checked~label.sk-toggleable__label-arrow:before {content: \"▾\";}#sk-container-id-1 div.sk-estimator input.sk-toggleable__control:checked~label.sk-toggleable__label {background-color: #d4ebff;}#sk-container-id-1 div.sk-label input.sk-toggleable__control:checked~label.sk-toggleable__label {background-color: #d4ebff;}#sk-container-id-1 input.sk-hidden--visually {border: 0;clip: rect(1px 1px 1px 1px);clip: rect(1px, 1px, 1px, 1px);height: 1px;margin: -1px;overflow: hidden;padding: 0;position: absolute;width: 1px;}#sk-container-id-1 div.sk-estimator {font-family: monospace;background-color: #f0f8ff;border: 1px dotted black;border-radius: 0.25em;box-sizing: border-box;margin-bottom: 0.5em;}#sk-container-id-1 div.sk-estimator:hover {background-color: #d4ebff;}#sk-container-id-1 div.sk-parallel-item::after {content: \"\";width: 100%;border-bottom: 1px solid gray;flex-grow: 1;}#sk-container-id-1 div.sk-label:hover label.sk-toggleable__label {background-color: #d4ebff;}#sk-container-id-1 div.sk-serial::before {content: \"\";position: absolute;border-left: 1px solid gray;box-sizing: border-box;top: 0;bottom: 0;left: 50%;z-index: 0;}#sk-container-id-1 div.sk-serial {display: flex;flex-direction: column;align-items: center;background-color: white;padding-right: 0.2em;padding-left: 0.2em;position: relative;}#sk-container-id-1 div.sk-item {position: relative;z-index: 1;}#sk-container-id-1 div.sk-parallel {display: flex;align-items: stretch;justify-content: center;background-color: white;position: relative;}#sk-container-id-1 div.sk-item::before, #sk-container-id-1 div.sk-parallel-item::before {content: \"\";position: absolute;border-left: 1px solid gray;box-sizing: border-box;top: 0;bottom: 0;left: 50%;z-index: -1;}#sk-container-id-1 div.sk-parallel-item {display: flex;flex-direction: column;z-index: 1;position: relative;background-color: white;}#sk-container-id-1 div.sk-parallel-item:first-child::after {align-self: flex-end;width: 50%;}#sk-container-id-1 div.sk-parallel-item:last-child::after {align-self: flex-start;width: 50%;}#sk-container-id-1 div.sk-parallel-item:only-child::after {width: 0;}#sk-container-id-1 div.sk-dashed-wrapped {border: 1px dashed gray;margin: 0 0.4em 0.5em 0.4em;box-sizing: border-box;padding-bottom: 0.4em;background-color: white;}#sk-container-id-1 div.sk-label label {font-family: monospace;font-weight: bold;display: inline-block;line-height: 1.2em;}#sk-container-id-1 div.sk-label-container {text-align: center;}#sk-container-id-1 div.sk-container {/* jupyter's `normalize.less` sets `[hidden] { display: none; }` but bootstrap.min.css set `[hidden] { display: none !important; }` so we also need the `!important` here to be able to override the default hidden behavior on the sphinx rendered scikit-learn.org. See: https://github.com/scikit-learn/scikit-learn/issues/21755 */display: inline-block !important;position: relative;}#sk-container-id-1 div.sk-text-repr-fallback {display: none;}</style><div id=\"sk-container-id-1\" class=\"sk-top-container\"><div class=\"sk-text-repr-fallback\"><pre>SimpleImputer()</pre><b>In a Jupyter environment, please rerun this cell to show the HTML representation or trust the notebook. <br />On GitHub, the HTML representation is unable to render, please try loading this page with nbviewer.org.</b></div><div class=\"sk-container\" hidden><div class=\"sk-item\"><div class=\"sk-estimator sk-toggleable\"><input class=\"sk-toggleable__control sk-hidden--visually\" id=\"sk-estimator-id-1\" type=\"checkbox\" checked><label for=\"sk-estimator-id-1\" class=\"sk-toggleable__label sk-toggleable__label-arrow\">SimpleImputer</label><div class=\"sk-toggleable__content\"><pre>SimpleImputer()</pre></div></div></div></div></div>"
            ]
          },
          "metadata": {},
          "execution_count": 19
        }
      ]
    },
    {
      "cell_type": "markdown",
      "source": [
        "Using drop column tohandle missing value on categorical or object data"
      ],
      "metadata": {
        "id": "akm-xmRdphDb"
      }
    },
    {
      "cell_type": "code",
      "execution_count": 20,
      "metadata": {
        "colab": {
          "base_uri": "https://localhost:8080/"
        },
        "id": "APXYNKqq0J3k",
        "outputId": "87edd390-3410-4e36-99d1-3a6e2442fe6c"
      },
      "outputs": [
        {
          "output_type": "execute_result",
          "data": {
            "text/plain": [
              "reviewId         0\n",
              "userName         0\n",
              "userImage        0\n",
              "score            0\n",
              "thumbsUpCount    0\n",
              "at               0\n",
              "dtype: int64"
            ]
          },
          "metadata": {},
          "execution_count": 20
        }
      ],
      "source": [
        "dataset = dataset.dropna(axis=1)\n",
        "dataset.isnull().sum()"
      ]
    },
    {
      "cell_type": "markdown",
      "source": [
        "drop datetime column since we don't need it, we will use it in the next lecure for forecasting time series data"
      ],
      "metadata": {
        "id": "hqbUmlrTqsed"
      }
    },
    {
      "cell_type": "markdown",
      "source": [
        "## 3. Data Visualization"
      ],
      "metadata": {
        "id": "ENPm1cm20MRH"
      }
    },
    {
      "cell_type": "markdown",
      "source": [
        "**Eploratory Data Analysis (EDA)**"
      ],
      "metadata": {
        "id": "Kmt5tnjKb_Th"
      }
    },
    {
      "cell_type": "markdown",
      "source": [
        "we will not use exploratory data analysis like in the previous class, we'll take another apporach to visualize data"
      ],
      "metadata": {
        "id": "_sXK6PePvNOv"
      }
    },
    {
      "cell_type": "markdown",
      "source": [
        "**3.1 Check Outliers**\n",
        "\n",
        "Outliers are values at the extreme ends of a dataset.\n",
        "\n",
        "Some outliers represent true values from natural variation in the population. Other outliers may result from incorrect data entry, equipment malfunctions, or other measurement errors.\n",
        "\n",
        "An outlier isn’t always a form of dirty or incorrect data, so you have to be careful with them in data cleansing. What you should do with an outlier depends on its most likely cause.\n",
        "\n",
        "for more info: https://www.scribbr.com/statistics/outliers/"
      ],
      "metadata": {
        "id": "FZB03O6btxDd"
      }
    },
    {
      "cell_type": "code",
      "execution_count": 21,
      "metadata": {
        "colab": {
          "base_uri": "https://localhost:8080/",
          "height": 300
        },
        "id": "0V45x0tn28_2",
        "outputId": "2cf0e4ed-d562-40af-f3a2-4a72ac58a56c"
      },
      "outputs": [
        {
          "output_type": "execute_result",
          "data": {
            "text/plain": [
              "               score  thumbsUpCount\n",
              "count  460287.000000  460287.000000\n",
              "mean        4.234919       3.210601\n",
              "std         1.430718     183.506791\n",
              "min         1.000000       0.000000\n",
              "25%         4.000000       0.000000\n",
              "50%         5.000000       0.000000\n",
              "75%         5.000000       0.000000\n",
              "max         5.000000   40311.000000"
            ],
            "text/html": [
              "\n",
              "  <div id=\"df-d40fc37e-cd38-470c-8da7-a56087b267be\">\n",
              "    <div class=\"colab-df-container\">\n",
              "      <div>\n",
              "<style scoped>\n",
              "    .dataframe tbody tr th:only-of-type {\n",
              "        vertical-align: middle;\n",
              "    }\n",
              "\n",
              "    .dataframe tbody tr th {\n",
              "        vertical-align: top;\n",
              "    }\n",
              "\n",
              "    .dataframe thead th {\n",
              "        text-align: right;\n",
              "    }\n",
              "</style>\n",
              "<table border=\"1\" class=\"dataframe\">\n",
              "  <thead>\n",
              "    <tr style=\"text-align: right;\">\n",
              "      <th></th>\n",
              "      <th>score</th>\n",
              "      <th>thumbsUpCount</th>\n",
              "    </tr>\n",
              "  </thead>\n",
              "  <tbody>\n",
              "    <tr>\n",
              "      <th>count</th>\n",
              "      <td>460287.000000</td>\n",
              "      <td>460287.000000</td>\n",
              "    </tr>\n",
              "    <tr>\n",
              "      <th>mean</th>\n",
              "      <td>4.234919</td>\n",
              "      <td>3.210601</td>\n",
              "    </tr>\n",
              "    <tr>\n",
              "      <th>std</th>\n",
              "      <td>1.430718</td>\n",
              "      <td>183.506791</td>\n",
              "    </tr>\n",
              "    <tr>\n",
              "      <th>min</th>\n",
              "      <td>1.000000</td>\n",
              "      <td>0.000000</td>\n",
              "    </tr>\n",
              "    <tr>\n",
              "      <th>25%</th>\n",
              "      <td>4.000000</td>\n",
              "      <td>0.000000</td>\n",
              "    </tr>\n",
              "    <tr>\n",
              "      <th>50%</th>\n",
              "      <td>5.000000</td>\n",
              "      <td>0.000000</td>\n",
              "    </tr>\n",
              "    <tr>\n",
              "      <th>75%</th>\n",
              "      <td>5.000000</td>\n",
              "      <td>0.000000</td>\n",
              "    </tr>\n",
              "    <tr>\n",
              "      <th>max</th>\n",
              "      <td>5.000000</td>\n",
              "      <td>40311.000000</td>\n",
              "    </tr>\n",
              "  </tbody>\n",
              "</table>\n",
              "</div>\n",
              "      <button class=\"colab-df-convert\" onclick=\"convertToInteractive('df-d40fc37e-cd38-470c-8da7-a56087b267be')\"\n",
              "              title=\"Convert this dataframe to an interactive table.\"\n",
              "              style=\"display:none;\">\n",
              "        \n",
              "  <svg xmlns=\"http://www.w3.org/2000/svg\" height=\"24px\"viewBox=\"0 0 24 24\"\n",
              "       width=\"24px\">\n",
              "    <path d=\"M0 0h24v24H0V0z\" fill=\"none\"/>\n",
              "    <path d=\"M18.56 5.44l.94 2.06.94-2.06 2.06-.94-2.06-.94-.94-2.06-.94 2.06-2.06.94zm-11 1L8.5 8.5l.94-2.06 2.06-.94-2.06-.94L8.5 2.5l-.94 2.06-2.06.94zm10 10l.94 2.06.94-2.06 2.06-.94-2.06-.94-.94-2.06-.94 2.06-2.06.94z\"/><path d=\"M17.41 7.96l-1.37-1.37c-.4-.4-.92-.59-1.43-.59-.52 0-1.04.2-1.43.59L10.3 9.45l-7.72 7.72c-.78.78-.78 2.05 0 2.83L4 21.41c.39.39.9.59 1.41.59.51 0 1.02-.2 1.41-.59l7.78-7.78 2.81-2.81c.8-.78.8-2.07 0-2.86zM5.41 20L4 18.59l7.72-7.72 1.47 1.35L5.41 20z\"/>\n",
              "  </svg>\n",
              "      </button>\n",
              "      \n",
              "  <style>\n",
              "    .colab-df-container {\n",
              "      display:flex;\n",
              "      flex-wrap:wrap;\n",
              "      gap: 12px;\n",
              "    }\n",
              "\n",
              "    .colab-df-convert {\n",
              "      background-color: #E8F0FE;\n",
              "      border: none;\n",
              "      border-radius: 50%;\n",
              "      cursor: pointer;\n",
              "      display: none;\n",
              "      fill: #1967D2;\n",
              "      height: 32px;\n",
              "      padding: 0 0 0 0;\n",
              "      width: 32px;\n",
              "    }\n",
              "\n",
              "    .colab-df-convert:hover {\n",
              "      background-color: #E2EBFA;\n",
              "      box-shadow: 0px 1px 2px rgba(60, 64, 67, 0.3), 0px 1px 3px 1px rgba(60, 64, 67, 0.15);\n",
              "      fill: #174EA6;\n",
              "    }\n",
              "\n",
              "    [theme=dark] .colab-df-convert {\n",
              "      background-color: #3B4455;\n",
              "      fill: #D2E3FC;\n",
              "    }\n",
              "\n",
              "    [theme=dark] .colab-df-convert:hover {\n",
              "      background-color: #434B5C;\n",
              "      box-shadow: 0px 1px 3px 1px rgba(0, 0, 0, 0.15);\n",
              "      filter: drop-shadow(0px 1px 2px rgba(0, 0, 0, 0.3));\n",
              "      fill: #FFFFFF;\n",
              "    }\n",
              "  </style>\n",
              "\n",
              "      <script>\n",
              "        const buttonEl =\n",
              "          document.querySelector('#df-d40fc37e-cd38-470c-8da7-a56087b267be button.colab-df-convert');\n",
              "        buttonEl.style.display =\n",
              "          google.colab.kernel.accessAllowed ? 'block' : 'none';\n",
              "\n",
              "        async function convertToInteractive(key) {\n",
              "          const element = document.querySelector('#df-d40fc37e-cd38-470c-8da7-a56087b267be');\n",
              "          const dataTable =\n",
              "            await google.colab.kernel.invokeFunction('convertToInteractive',\n",
              "                                                     [key], {});\n",
              "          if (!dataTable) return;\n",
              "\n",
              "          const docLinkHtml = 'Like what you see? Visit the ' +\n",
              "            '<a target=\"_blank\" href=https://colab.research.google.com/notebooks/data_table.ipynb>data table notebook</a>'\n",
              "            + ' to learn more about interactive tables.';\n",
              "          element.innerHTML = '';\n",
              "          dataTable['output_type'] = 'display_data';\n",
              "          await google.colab.output.renderOutput(dataTable, element);\n",
              "          const docLink = document.createElement('div');\n",
              "          docLink.innerHTML = docLinkHtml;\n",
              "          element.appendChild(docLink);\n",
              "        }\n",
              "      </script>\n",
              "    </div>\n",
              "  </div>\n",
              "  "
            ]
          },
          "metadata": {},
          "execution_count": 21
        }
      ],
      "source": [
        "dataset.describe()"
      ]
    },
    {
      "cell_type": "code",
      "source": [
        "import matplotlib.pyplot as plt\n",
        "%matplotlib inline\n",
        "dataset.plot()"
      ],
      "metadata": {
        "colab": {
          "base_uri": "https://localhost:8080/",
          "height": 447
        },
        "id": "hVyPVG8wv4Rd",
        "outputId": "2e8b2455-444c-4036-af78-f55e7c7e3789"
      },
      "execution_count": 22,
      "outputs": [
        {
          "output_type": "execute_result",
          "data": {
            "text/plain": [
              "<Axes: >"
            ]
          },
          "metadata": {},
          "execution_count": 22
        },
        {
          "output_type": "display_data",
          "data": {
            "text/plain": [
              "<Figure size 640x480 with 1 Axes>"
            ],
            "image/png": "[encoded data removed]"
          },
          "metadata": {}
        }
      ]
    },
    {
      "cell_type": "code",
      "source": [
        "import seaborn as sns\n",
        "%matplotlib inline\n",
        "\n",
        "sns.set(rc={'figure.figsize':(11,8)}, font_scale=1.5, style='whitegrid')\n",
        "\n",
        "# tips = sns.load_dataset(dataset)\n",
        "sns.boxplot(data=dataset, orient=\"h\");"
      ],
      "metadata": {
        "colab": {
          "base_uri": "https://localhost:8080/",
          "height": 689
        },
        "id": "Sg0KQswrw-aG",
        "outputId": "b01d2cdf-36d6-4f63-d238-d90db3242683"
      },
      "execution_count": 23,
      "outputs": [
        {
          "output_type": "display_data",
          "data": {
            "text/plain": [
              "<Figure size 1100x800 with 1 Axes>"
            ],
            "image/png": "[encoded data removed]"
          },
          "metadata": {}
        }
      ]
    },
    {
      "cell_type": "code",
      "source": [
        "# Scatter plot\n",
        "fig, ax = plt.subplots(figsize = (15,7))\n",
        "ax.scatter(dataset['score'], dataset['thumbsUpCount'])\n",
        " \n",
        "# x-axis label\n",
        "ax.set_xlabel('thumbsUpCount')\n",
        " \n",
        "# y-axis label\n",
        "ax.set_ylabel('score')\n",
        "plt.show()"
      ],
      "metadata": {
        "colab": {
          "base_uri": "https://localhost:8080/",
          "height": 641
        },
        "id": "QF-Yo7Mc1BJH",
        "outputId": "9b608880-fbe8-45ac-c9c2-afabf3e5dd2e"
      },
      "execution_count": 24,
      "outputs": [
        {
          "output_type": "display_data",
          "data": {
            "text/plain": [
              "<Figure size 1500x700 with 1 Axes>"
            ],
            "image/png": "[encoded data removed]"
          },
          "metadata": {}
        }
      ]
    },
    {
      "cell_type": "markdown",
      "source": [
        "**Removing the outliers using IQR**\n",
        "\n",
        "**IQR (Inter Quartile Range)**\n",
        "\n",
        "IQR = Quartile3 – Quartile1\n",
        "\n",
        "Quartile description: https://rumusbilangan.com/rumus-kuartil/\n"
      ],
      "metadata": {
        "id": "QNqE47dr2hr4"
      }
    },
    {
      "cell_type": "markdown",
      "source": [
        "IQR is interpolation method to remove outliers\n",
        "\n",
        "To define the outlier base value is defined above and below datasets normal range namely Upper and Lower bounds, define the upper and the lower bound (1.5*IQR value is considered) :\n",
        "\n",
        "upper = Q3 +1.5*IQR\n",
        "\n",
        "lower = Q1 – 1.5*IQR\n",
        "\n",
        "how to calculate IQR:\n",
        "\n",
        "https://www.timesmojo.com/what-is-the-15-iqr-rule/\n",
        "\n",
        "https://www.geeksforgeeks.org/detect-and-remove-the-outliers-using-python/\n",
        "\n",
        "In the above formula as according to statistics, the 0.5 scale-up of IQR (new_IQR = IQR + 0.5*IQR) is taken, to consider all the data between 2.7 standard deviations in the Gaussian Distribution."
      ],
      "metadata": {
        "id": "5m0lhYyq3Xn7"
      }
    },
    {
      "cell_type": "code",
      "source": [
        "import sklearn\n",
        "\n",
        "# IQR Price\n",
        "Q1 = np.percentile(dataset['score'], 25,\n",
        "                   method = 'midpoint')\n",
        " \n",
        "Q3 = np.percentile(dataset['score'], 75,\n",
        "                   method = 'midpoint')\n",
        "IQR = Q3 - Q1\n",
        " \n",
        "print(\"Old Shape: \", dataset.shape)"
      ],
      "metadata": {
        "colab": {
          "base_uri": "https://localhost:8080/"
        },
        "id": "jL9XfyUY6L58",
        "outputId": "6b59dcf5-cd3e-4a69-9cc7-584470d89eb3"
      },
      "execution_count": 25,
      "outputs": [
        {
          "output_type": "stream",
          "name": "stdout",
          "text": [
            "Old Shape:  (460287, 6)\n"
          ]
        }
      ]
    },
    {
      "cell_type": "code",
      "source": [
        "# Upper bound\n",
        "upper = Q3 + 1.5 * IQR\n",
        "\n",
        "# Lower bound\n",
        "lower = Q1 - 1.5 * IQR\n",
        "\n",
        "# Finding the indices of the outliers\n",
        "outliers_upper = dataset[dataset['score'] > upper].index\n",
        "outliers_lower = dataset[dataset['score'] < lower].index\n",
        "\n",
        "# Concatenate the indices of the outliers\n",
        "outliers = outliers_upper.append(outliers_lower)\n",
        "\n",
        "# Removing the outliers\n",
        "dataset.drop(outliers, inplace=True)\n",
        "\n",
        "print(\"New Shape: \", dataset.shape)\n"
      ],
      "metadata": {
        "colab": {
          "base_uri": "https://localhost:8080/"
        },
        "id": "WIZyhdHL6orp",
        "outputId": "327b929f-27ff-467a-cab4-c5dcc948fbad"
      },
      "execution_count": 26,
      "outputs": [
        {
          "output_type": "stream",
          "name": "stdout",
          "text": [
            "New Shape:  (385179, 6)\n"
          ]
        },
        {
          "output_type": "stream",
          "name": "stderr",
          "text": [
            "<ipython-input-26-c84c98ea5ce3>:15: SettingWithCopyWarning: \n",
            "A value is trying to be set on a copy of a slice from a DataFrame\n",
            "\n",
            "See the caveats in the documentation: https://pandas.pydata.org/pandas-docs/stable/user_guide/indexing.html#returning-a-view-versus-a-copy\n",
            "  dataset.drop(outliers, inplace=True)\n"
          ]
        }
      ]
    },
    {
      "cell_type": "code",
      "source": [
        "import sklearn\n",
        "\n",
        "# IQR Landsize\n",
        "Q1 = np.percentile(dataset['thumbsUpCount'], 25,\n",
        "                   method = 'midpoint')\n",
        " \n",
        "Q3 = np.percentile(dataset['thumbsUpCount'], 75,\n",
        "                   method = 'midpoint')\n",
        "IQR = Q3 - Q1\n",
        " \n",
        "print(\"Old Shape: \", dataset.shape)"
      ],
      "metadata": {
        "colab": {
          "base_uri": "https://localhost:8080/"
        },
        "id": "NV-D28kj63xj",
        "outputId": "79127207-cb5d-4ce5-9ca3-297d0a99220d"
      },
      "execution_count": 27,
      "outputs": [
        {
          "output_type": "stream",
          "name": "stdout",
          "text": [
            "Old Shape:  (385179, 6)\n"
          ]
        }
      ]
    },
    {
      "cell_type": "code",
      "source": [
        "# Upper bound\n",
        "upper = Q3 + 1.5 * IQR\n",
        "\n",
        "# Lower bound\n",
        "lower = Q1 - 1.5 * IQR\n",
        "\n",
        "# Finding the indices of the outliers\n",
        "outliers_upper = dataset[dataset['thumbsUpCount'] > upper].index\n",
        "outliers_lower = dataset[dataset['thumbsUpCount'] < lower].index\n",
        "\n",
        "# Concatenate the indices of the outliers\n",
        "outliers = outliers_upper.append(outliers_lower)\n",
        "\n",
        "# Removing the outliers\n",
        "dataset.drop(outliers, inplace=True)\n",
        "\n",
        "print(\"New Shape: \", dataset.shape)\n"
      ],
      "metadata": {
        "colab": {
          "base_uri": "https://localhost:8080/"
        },
        "id": "raHbRnEQ66Ai",
        "outputId": "78e8358f-4114-4d7f-b079-530c55e92c95"
      },
      "execution_count": 28,
      "outputs": [
        {
          "output_type": "stream",
          "name": "stdout",
          "text": [
            "New Shape:  (368664, 6)\n"
          ]
        },
        {
          "output_type": "stream",
          "name": "stderr",
          "text": [
            "<ipython-input-28-291f135d91d6>:15: SettingWithCopyWarning: \n",
            "A value is trying to be set on a copy of a slice from a DataFrame\n",
            "\n",
            "See the caveats in the documentation: https://pandas.pydata.org/pandas-docs/stable/user_guide/indexing.html#returning-a-view-versus-a-copy\n",
            "  dataset.drop(outliers, inplace=True)\n"
          ]
        }
      ]
    },
    {
      "cell_type": "code",
      "execution_count": 29,
      "metadata": {
        "colab": {
          "base_uri": "https://localhost:8080/",
          "height": 689
        },
        "id": "vR-0FpAR4wNE",
        "outputId": "51c8b8ed-d772-411f-beb9-551dfc089cc9"
      },
      "outputs": [
        {
          "output_type": "display_data",
          "data": {
            "text/plain": [
              "<Figure size 1100x800 with 1 Axes>"
            ],
            "image/png": "[encoded data removed]"
          },
          "metadata": {}
        }
      ],
      "source": [
        "import seaborn as sns\n",
        "%matplotlib inline\n",
        "\n",
        "sns.set(rc={'figure.figsize':(11,8)}, font_scale=1.5, style='whitegrid')\n",
        "\n",
        "# tips = sns.load_dataset(dataset)\n",
        "sns.boxplot(data=dataset, orient=\"h\");"
      ]
    },
    {
      "cell_type": "code",
      "source": [
        "# Scatter plot\n",
        "fig, ax = plt.subplots(figsize = (15,7))\n",
        "ax.scatter(dataset['score'], dataset['thumbsUpCount'])\n",
        " \n",
        "# x-axis label\n",
        "ax.set_xlabel('thumbsUpCount')\n",
        " \n",
        "# y-axis label\n",
        "ax.set_ylabel('score')\n",
        "plt.show()"
      ],
      "metadata": {
        "colab": {
          "base_uri": "https://localhost:8080/",
          "height": 641
        },
        "id": "kp3nBBsZ8qQm",
        "outputId": "b0fbe865-5bf1-4161-c8e9-d32e3a46ce11"
      },
      "execution_count": 30,
      "outputs": [
        {
          "output_type": "display_data",
          "data": {
            "text/plain": [
              "<Figure size 1500x700 with 1 Axes>"
            ],
            "image/png": "[encoded data removed]"
          },
          "metadata": {}
        }
      ]
    },
    {
      "cell_type": "markdown",
      "source": [
        "Show data distribution based on density (kde - kernel density estimation)"
      ],
      "metadata": {
        "id": "LsjkfEScBUoN"
      }
    },
    {
      "cell_type": "markdown",
      "source": [
        "Show data distribution based on histogram"
      ],
      "metadata": {
        "id": "wLLPYJxoBkJj"
      }
    },
    {
      "cell_type": "code",
      "source": [
        "dataset.plot(kind='hist',subplots=True,layout=(10,2),figsize=(15,12), sharex=False)\n",
        "plt.show()"
      ],
      "metadata": {
        "colab": {
          "base_uri": "https://localhost:8080/",
          "height": 151
        },
        "id": "oGUJFv6oj_Ub",
        "outputId": "a781a71e-bd28-4712-f32b-1550dcfcfc39"
      },
      "execution_count": 32,
      "outputs": [
        {
          "output_type": "display_data",
          "data": {
            "text/plain": [
              "<Figure size 1500x1200 with 20 Axes>"
            ],
            "image/png": "[encoded data removed]"
          },
          "metadata": {}
        }
      ]
    },
    {
      "cell_type": "code",
      "source": [
        "dataset.plot(kind='line',subplots=True,layout=(10,2),figsize=(15,12), sharex=False)\n",
        "plt.show()"
      ],
      "metadata": {
        "colab": {
          "base_uri": "https://localhost:8080/",
          "height": 156
        },
        "id": "MGk91iI0kZ_3",
        "outputId": "c80706ee-4330-4bba-ef7a-76c874ffe7df"
      },
      "execution_count": 33,
      "outputs": [
        {
          "output_type": "display_data",
          "data": {
            "text/plain": [
              "<Figure size 1500x1200 with 20 Axes>"
            ],
            "image/png": "[encoded data removed]"
          },
          "metadata": {}
        }
      ]
    },
    {
      "cell_type": "markdown",
      "source": [
        "**3.2 CORRELATION MATRIX**"
      ],
      "metadata": {
        "id": "Rdb2Vu6ER6bG"
      }
    },
    {
      "cell_type": "code",
      "execution_count": 34,
      "metadata": {
        "colab": {
          "base_uri": "https://localhost:8080/",
          "height": 1000
        },
        "id": "JJfeTBE8AoEU",
        "outputId": "db468e72-2f6f-49fb-9a4d-0c34f976d838"
      },
      "outputs": [
        {
          "output_type": "stream",
          "name": "stderr",
          "text": [
            "/usr/local/lib/python3.10/dist-packages/pandas/plotting/_matplotlib/misc.py:101: UserWarning: Attempting to set identical low and high xlims makes transformation singular; automatically expanding.\n",
            "  ax.set_xlim(boundaries_list[j])\n",
            "/usr/local/lib/python3.10/dist-packages/pandas/plotting/_matplotlib/misc.py:102: UserWarning: Attempting to set identical low and high ylims makes transformation singular; automatically expanding.\n",
            "  ax.set_ylim(boundaries_list[i])\n",
            "/usr/local/lib/python3.10/dist-packages/pandas/plotting/_matplotlib/misc.py:92: UserWarning: Attempting to set identical low and high xlims makes transformation singular; automatically expanding.\n",
            "  ax.set_xlim(boundaries_list[i])\n"
          ]
        },
        {
          "output_type": "display_data",
          "data": {
            "text/plain": [
              "<Figure size 1200x1200 with 4 Axes>"
            ],
            "image/png": "[encoded data removed]"
          },
          "metadata": {}
        }
      ],
      "source": [
        "pd.plotting.scatter_matrix(dataset,figsize=(12,12))\n",
        "plt.show()"
      ]
    },
    {
      "cell_type": "markdown",
      "source": [
        "correlation matrix with heatmap"
      ],
      "metadata": {
        "id": "3GkOv0zVElyF"
      }
    },
    {
      "cell_type": "code",
      "execution_count": 35,
      "metadata": {
        "colab": {
          "base_uri": "https://localhost:8080/",
          "height": 740
        },
        "id": "QOpTY-zcm2al",
        "outputId": "298c3540-c720-47f8-d71e-3443659e5664"
      },
      "outputs": [
        {
          "output_type": "stream",
          "name": "stderr",
          "text": [
            "<ipython-input-35-4b443a21f68f>:2: FutureWarning: The default value of numeric_only in DataFrame.corr is deprecated. In a future version, it will default to False. Select only valid columns or specify the value of numeric_only to silence this warning.\n",
            "  corr = corr_data.corr()\n"
          ]
        },
        {
          "output_type": "display_data",
          "data": {
            "text/plain": [
              "<Figure size 1500x700 with 2 Axes>"
            ],
            "image/png": "[encoded data removed]"
          },
          "metadata": {}
        }
      ],
      "source": [
        "corr_data = dataset\n",
        "corr = corr_data.corr()\n",
        "\n",
        "cor_plot = sns.heatmap(corr,annot=True,cmap='RdYlGn',linewidths=0.2,annot_kws={'size':10})\n",
        "fig=plt.gcf()\n",
        "fig.set_size_inches(15,7)\n",
        "plt.xticks(fontsize=10,rotation=-30)\n",
        "plt.yticks(fontsize=10)\n",
        "plt.title('Correlation Matrix')\n",
        "plt.show()"
      ]
    },
    {
      "cell_type": "markdown",
      "source": [
        "**4. Splitting Dataset**"
      ],
      "metadata": {
        "id": "Ue-S5QvcEZP3"
      }
    },
    {
      "cell_type": "markdown",
      "source": [
        "**4.1 Slicing**"
      ],
      "metadata": {
        "id": "y6eAqlWSHSCa"
      }
    },
    {
      "cell_type": "markdown",
      "source": [
        "We define x and y as x for data and y for label"
      ],
      "metadata": {
        "id": "bPWKEA19HYEQ"
      }
    },
    {
      "cell_type": "code",
      "source": [
        "x = dataset.drop('score', axis=1)\n",
        "x"
      ],
      "metadata": {
        "colab": {
          "base_uri": "https://localhost:8080/",
          "height": 424
        },
        "id": "hCep1ou2LfU1",
        "outputId": "dd62bf76-c5ee-4f1d-e56a-397f943ad67e"
      },
      "execution_count": 36,
      "outputs": [
        {
          "output_type": "execute_result",
          "data": {
            "text/plain": [
              "                                    reviewId              userName  \\\n",
              "0       68ccaec8-1415-4301-a85e-3004679a3a83          Cassie Moore   \n",
              "1       d84cbfd3-6aa3-485c-aaf9-c5dca27dc966         Kaleb Plummer   \n",
              "3       078c0bda-598b-474e-a04e-d7cb3e6f6301  Kittykatelyn Romilly   \n",
              "4       8e68c5cd-b12a-4206-a8da-6bfdbff44ae3      Loveness Malenga   \n",
              "5       08dc9129-a16b-459a-9c58-4d63a0eebd26       Melvin Crawford   \n",
              "...                                      ...                   ...   \n",
              "460281  d2ef5b27-2a18-442f-92cb-b88b8dd750b4           Bff Mavneet   \n",
              "460282  73cf78fe-599d-4488-8a8b-ae443847303b           hera killar   \n",
              "460284  fbb86777-b885-4f76-b49e-13e424aa5afc       Md. Zahid Hasan   \n",
              "460285  28df682c-bb17-4224-8658-642a92a2c723              Ash Ryan   \n",
              "460286  1cfbb2b3-fb0b-4f4b-8963-9e2b803f24dc           Haroon Jaan   \n",
              "\n",
              "                                                userImage  thumbsUpCount  \\\n",
              "0       https://play-lh.googleusercontent.com/a/ALm5wu...              0   \n",
              "1       https://play-lh.googleusercontent.com/a-/ACNPE...              0   \n",
              "3       https://play-lh.googleusercontent.com/a-/ACNPE...              0   \n",
              "4       https://play-lh.googleusercontent.com/a-/ACNPE...              0   \n",
              "5       https://play-lh.googleusercontent.com/a/ALm5wu...              0   \n",
              "...                                                   ...            ...   \n",
              "460281  https://play-lh.googleusercontent.com/a-/ACNPE...              0   \n",
              "460282  https://play-lh.googleusercontent.com/a-/ACNPE...              0   \n",
              "460284  https://play-lh.googleusercontent.com/a-/ACNPE...              0   \n",
              "460285  https://play-lh.googleusercontent.com/a-/ACNPE...              0   \n",
              "460286  https://play-lh.googleusercontent.com/a/ALm5wu...              0   \n",
              "\n",
              "                         at  \n",
              "0       2022-11-29 21:55:37  \n",
              "1       2022-11-29 21:55:04  \n",
              "3       2022-11-29 21:54:35  \n",
              "4       2022-11-29 21:54:21  \n",
              "5       2022-11-29 21:52:53  \n",
              "...                     ...  \n",
              "460281  2022-06-18 12:36:19  \n",
              "460282  2022-06-18 12:35:32  \n",
              "460284  2022-06-18 12:34:39  \n",
              "460285  2022-06-18 12:34:38  \n",
              "460286  2022-06-18 12:34:32  \n",
              "\n",
              "[368664 rows x 5 columns]"
            ],
            "text/html": [
              "\n",
              "  <div id=\"df-2eacb568-0214-4f67-8dff-370f41cf3ec7\">\n",
              "    <div class=\"colab-df-container\">\n",
              "      <div>\n",
              "<style scoped>\n",
              "    .dataframe tbody tr th:only-of-type {\n",
              "        vertical-align: middle;\n",
              "    }\n",
              "\n",
              "    .dataframe tbody tr th {\n",
              "        vertical-align: top;\n",
              "    }\n",
              "\n",
              "    .dataframe thead th {\n",
              "        text-align: right;\n",
              "    }\n",
              "</style>\n",
              "<table border=\"1\" class=\"dataframe\">\n",
              "  <thead>\n",
              "    <tr style=\"text-align: right;\">\n",
              "      <th></th>\n",
              "      <th>reviewId</th>\n",
              "      <th>userName</th>\n",
              "      <th>userImage</th>\n",
              "      <th>thumbsUpCount</th>\n",
              "      <th>at</th>\n",
              "    </tr>\n",
              "  </thead>\n",
              "  <tbody>\n",
              "    <tr>\n",
              "      <th>0</th>\n",
              "      <td>68ccaec8-1415-4301-a85e-3004679a3a83</td>\n",
              "      <td>Cassie Moore</td>\n",
              "      <td>https://play-lh.googleusercontent.com/a/ALm5wu...</td>\n",
              "      <td>0</td>\n",
              "      <td>2022-11-29 21:55:37</td>\n",
              "    </tr>\n",
              "    <tr>\n",
              "      <th>1</th>\n",
              "      <td>d84cbfd3-6aa3-485c-aaf9-c5dca27dc966</td>\n",
              "      <td>Kaleb Plummer</td>\n",
              "      <td>https://play-lh.googleusercontent.com/a-/ACNPE...</td>\n",
              "      <td>0</td>\n",
              "      <td>2022-11-29 21:55:04</td>\n",
              "    </tr>\n",
              "    <tr>\n",
              "      <th>3</th>\n",
              "      <td>078c0bda-598b-474e-a04e-d7cb3e6f6301</td>\n",
              "      <td>Kittykatelyn Romilly</td>\n",
              "      <td>https://play-lh.googleusercontent.com/a-/ACNPE...</td>\n",
              "      <td>0</td>\n",
              "      <td>2022-11-29 21:54:35</td>\n",
              "    </tr>\n",
              "    <tr>\n",
              "      <th>4</th>\n",
              "      <td>8e68c5cd-b12a-4206-a8da-6bfdbff44ae3</td>\n",
              "      <td>Loveness Malenga</td>\n",
              "      <td>https://play-lh.googleusercontent.com/a-/ACNPE...</td>\n",
              "      <td>0</td>\n",
              "      <td>2022-11-29 21:54:21</td>\n",
              "    </tr>\n",
              "    <tr>\n",
              "      <th>5</th>\n",
              "      <td>08dc9129-a16b-459a-9c58-4d63a0eebd26</td>\n",
              "      <td>Melvin Crawford</td>\n",
              "      <td>https://play-lh.googleusercontent.com/a/ALm5wu...</td>\n",
              "      <td>0</td>\n",
              "      <td>2022-11-29 21:52:53</td>\n",
              "    </tr>\n",
              "    <tr>\n",
              "      <th>...</th>\n",
              "      <td>...</td>\n",
              "      <td>...</td>\n",
              "      <td>...</td>\n",
              "      <td>...</td>\n",
              "      <td>...</td>\n",
              "    </tr>\n",
              "    <tr>\n",
              "      <th>460281</th>\n",
              "      <td>d2ef5b27-2a18-442f-92cb-b88b8dd750b4</td>\n",
              "      <td>Bff Mavneet</td>\n",
              "      <td>https://play-lh.googleusercontent.com/a-/ACNPE...</td>\n",
              "      <td>0</td>\n",
              "      <td>2022-06-18 12:36:19</td>\n",
              "    </tr>\n",
              "    <tr>\n",
              "      <th>460282</th>\n",
              "      <td>73cf78fe-599d-4488-8a8b-ae443847303b</td>\n",
              "      <td>hera killar</td>\n",
              "      <td>https://play-lh.googleusercontent.com/a-/ACNPE...</td>\n",
              "      <td>0</td>\n",
              "      <td>2022-06-18 12:35:32</td>\n",
              "    </tr>\n",
              "    <tr>\n",
              "      <th>460284</th>\n",
              "      <td>fbb86777-b885-4f76-b49e-13e424aa5afc</td>\n",
              "      <td>Md. Zahid Hasan</td>\n",
              "      <td>https://play-lh.googleusercontent.com/a-/ACNPE...</td>\n",
              "      <td>0</td>\n",
              "      <td>2022-06-18 12:34:39</td>\n",
              "    </tr>\n",
              "    <tr>\n",
              "      <th>460285</th>\n",
              "      <td>28df682c-bb17-4224-8658-642a92a2c723</td>\n",
              "      <td>Ash Ryan</td>\n",
              "      <td>https://play-lh.googleusercontent.com/a-/ACNPE...</td>\n",
              "      <td>0</td>\n",
              "      <td>2022-06-18 12:34:38</td>\n",
              "    </tr>\n",
              "    <tr>\n",
              "      <th>460286</th>\n",
              "      <td>1cfbb2b3-fb0b-4f4b-8963-9e2b803f24dc</td>\n",
              "      <td>Haroon Jaan</td>\n",
              "      <td>https://play-lh.googleusercontent.com/a/ALm5wu...</td>\n",
              "      <td>0</td>\n",
              "      <td>2022-06-18 12:34:32</td>\n",
              "    </tr>\n",
              "  </tbody>\n",
              "</table>\n",
              "<p>368664 rows × 5 columns</p>\n",
              "</div>\n",
              "      <button class=\"colab-df-convert\" onclick=\"convertToInteractive('df-2eacb568-0214-4f67-8dff-370f41cf3ec7')\"\n",
              "              title=\"Convert this dataframe to an interactive table.\"\n",
              "              style=\"display:none;\">\n",
              "        \n",
              "  <svg xmlns=\"http://www.w3.org/2000/svg\" height=\"24px\"viewBox=\"0 0 24 24\"\n",
              "       width=\"24px\">\n",
              "    <path d=\"M0 0h24v24H0V0z\" fill=\"none\"/>\n",
              "    <path d=\"M18.56 5.44l.94 2.06.94-2.06 2.06-.94-2.06-.94-.94-2.06-.94 2.06-2.06.94zm-11 1L8.5 8.5l.94-2.06 2.06-.94-2.06-.94L8.5 2.5l-.94 2.06-2.06.94zm10 10l.94 2.06.94-2.06 2.06-.94-2.06-.94-.94-2.06-.94 2.06-2.06.94z\"/><path d=\"M17.41 7.96l-1.37-1.37c-.4-.4-.92-.59-1.43-.59-.52 0-1.04.2-1.43.59L10.3 9.45l-7.72 7.72c-.78.78-.78 2.05 0 2.83L4 21.41c.39.39.9.59 1.41.59.51 0 1.02-.2 1.41-.59l7.78-7.78 2.81-2.81c.8-.78.8-2.07 0-2.86zM5.41 20L4 18.59l7.72-7.72 1.47 1.35L5.41 20z\"/>\n",
              "  </svg>\n",
              "      </button>\n",
              "      \n",
              "  <style>\n",
              "    .colab-df-container {\n",
              "      display:flex;\n",
              "      flex-wrap:wrap;\n",
              "      gap: 12px;\n",
              "    }\n",
              "\n",
              "    .colab-df-convert {\n",
              "      background-color: #E8F0FE;\n",
              "      border: none;\n",
              "      border-radius: 50%;\n",
              "      cursor: pointer;\n",
              "      display: none;\n",
              "      fill: #1967D2;\n",
              "      height: 32px;\n",
              "      padding: 0 0 0 0;\n",
              "      width: 32px;\n",
              "    }\n",
              "\n",
              "    .colab-df-convert:hover {\n",
              "      background-color: #E2EBFA;\n",
              "      box-shadow: 0px 1px 2px rgba(60, 64, 67, 0.3), 0px 1px 3px 1px rgba(60, 64, 67, 0.15);\n",
              "      fill: #174EA6;\n",
              "    }\n",
              "\n",
              "    [theme=dark] .colab-df-convert {\n",
              "      background-color: #3B4455;\n",
              "      fill: #D2E3FC;\n",
              "    }\n",
              "\n",
              "    [theme=dark] .colab-df-convert:hover {\n",
              "      background-color: #434B5C;\n",
              "      box-shadow: 0px 1px 3px 1px rgba(0, 0, 0, 0.15);\n",
              "      filter: drop-shadow(0px 1px 2px rgba(0, 0, 0, 0.3));\n",
              "      fill: #FFFFFF;\n",
              "    }\n",
              "  </style>\n",
              "\n",
              "      <script>\n",
              "        const buttonEl =\n",
              "          document.querySelector('#df-2eacb568-0214-4f67-8dff-370f41cf3ec7 button.colab-df-convert');\n",
              "        buttonEl.style.display =\n",
              "          google.colab.kernel.accessAllowed ? 'block' : 'none';\n",
              "\n",
              "        async function convertToInteractive(key) {\n",
              "          const element = document.querySelector('#df-2eacb568-0214-4f67-8dff-370f41cf3ec7');\n",
              "          const dataTable =\n",
              "            await google.colab.kernel.invokeFunction('convertToInteractive',\n",
              "                                                     [key], {});\n",
              "          if (!dataTable) return;\n",
              "\n",
              "          const docLinkHtml = 'Like what you see? Visit the ' +\n",
              "            '<a target=\"_blank\" href=https://colab.research.google.com/notebooks/data_table.ipynb>data table notebook</a>'\n",
              "            + ' to learn more about interactive tables.';\n",
              "          element.innerHTML = '';\n",
              "          dataTable['output_type'] = 'display_data';\n",
              "          await google.colab.output.renderOutput(dataTable, element);\n",
              "          const docLink = document.createElement('div');\n",
              "          docLink.innerHTML = docLinkHtml;\n",
              "          element.appendChild(docLink);\n",
              "        }\n",
              "      </script>\n",
              "    </div>\n",
              "  </div>\n",
              "  "
            ]
          },
          "metadata": {},
          "execution_count": 36
        }
      ]
    },
    {
      "cell_type": "markdown",
      "source": [
        "Choose feature Type as a label"
      ],
      "metadata": {
        "id": "SkZgXnQ-tST1"
      }
    },
    {
      "cell_type": "code",
      "source": [
        "y = dataset[\"score\"]\n",
        "y"
      ],
      "metadata": {
        "colab": {
          "base_uri": "https://localhost:8080/"
        },
        "id": "WOZTLMYeh3hj",
        "outputId": "1db8dfb9-596c-4b2a-8671-63bb1f6265a4"
      },
      "execution_count": 37,
      "outputs": [
        {
          "output_type": "execute_result",
          "data": {
            "text/plain": [
              "0         5\n",
              "1         5\n",
              "3         5\n",
              "4         5\n",
              "5         5\n",
              "         ..\n",
              "460281    5\n",
              "460282    5\n",
              "460284    5\n",
              "460285    5\n",
              "460286    5\n",
              "Name: score, Length: 368664, dtype: int64"
            ]
          },
          "metadata": {},
          "execution_count": 37
        }
      ]
    },
    {
      "cell_type": "code",
      "source": [
        "y.values.reshape(-1,1)"
      ],
      "metadata": {
        "colab": {
          "base_uri": "https://localhost:8080/"
        },
        "id": "l6idhdXTrLAD",
        "outputId": "fc880aee-7f69-4d15-9e04-c3a7cbf2c40d"
      },
      "execution_count": 38,
      "outputs": [
        {
          "output_type": "execute_result",
          "data": {
            "text/plain": [
              "array([[5],\n",
              "       [5],\n",
              "       [5],\n",
              "       ...,\n",
              "       [5],\n",
              "       [5],\n",
              "       [5]])"
            ]
          },
          "metadata": {},
          "execution_count": 38
        }
      ]
    },
    {
      "cell_type": "markdown",
      "source": [
        "**4.2 Categorical Encoding**\n",
        "\n",
        "Choose One Hot Encoding or Label Encoding for perform categorical encoding\n",
        "\n",
        "**One-Hot Encoding for data input x**"
      ],
      "metadata": {
        "id": "-KhD3RU7qniq"
      }
    },
    {
      "cell_type": "code",
      "source": [
        "x = pd.get_dummies(x)\n",
        "x"
      ],
      "metadata": {
        "colab": {
          "base_uri": "https://localhost:8080/",
          "height": 183
        },
        "id": "y_K5f2vyqNef",
        "outputId": "0a278e67-d547-46e4-8407-67b419e8edb7"
      },
      "execution_count": 1,
      "outputs": [
        {
          "output_type": "error",
          "ename": "NameError",
          "evalue": "ignored",
          "traceback": [
            "\u001b[0;31m---------------------------------------------------------------------------\u001b[0m",
            "\u001b[0;31mNameError\u001b[0m                                 Traceback (most recent call last)",
            "\u001b[0;32m<ipython-input-1-1bbdd9f5614c>\u001b[0m in \u001b[0;36m<cell line: 1>\u001b[0;34m()\u001b[0m\n\u001b[0;32m----> 1\u001b[0;31m \u001b[0mx\u001b[0m \u001b[0;34m=\u001b[0m \u001b[0mpd\u001b[0m\u001b[0;34m.\u001b[0m\u001b[0mget_dummies\u001b[0m\u001b[0;34m(\u001b[0m\u001b[0mx\u001b[0m\u001b[0;34m)\u001b[0m\u001b[0;34m\u001b[0m\u001b[0;34m\u001b[0m\u001b[0m\n\u001b[0m\u001b[1;32m      2\u001b[0m \u001b[0mx\u001b[0m\u001b[0;34m\u001b[0m\u001b[0;34m\u001b[0m\u001b[0m\n",
            "\u001b[0;31mNameError\u001b[0m: name 'pd' is not defined"
          ]
        }
      ]
    },
    {
      "cell_type": "code",
      "source": [
        "x.shape"
      ],
      "metadata": {
        "id": "bTWosUkWqZyG"
      },
      "execution_count": null,
      "outputs": []
    },
    {
      "cell_type": "markdown",
      "source": [
        "**4.2.1 Standarization**"
      ],
      "metadata": {
        "id": "BuOZc5O6GUJz"
      }
    },
    {
      "cell_type": "markdown",
      "source": [
        "Standardization is used on the data values that are normally distributed. Further, by applying standardization, we tend to make the mean of the dataset as 0 and the standard deviation equivalent to 1.\n",
        "\n",
        "That is, by standardizing the values, we get the following statistics of the data distribution\n",
        "\n",
        "mean = 0\n",
        "standard deviation = 1\n",
        "\n",
        "Thus, by this the data set becomes self explanatory and easy to analyze as the mean turns down to 0 and it happens to have an unit variance.\n",
        "\n",
        "References: https://www.askpython.com/python/examples/standardize-data-in-python#:~:text=Ways%20to%20Standardize%20Data%20in%20Python%201%201.,load_iris%20...%202%202.%20Using%20StandardScaler%20%28%29%20function"
      ],
      "metadata": {
        "id": "B4NxpFrsHDmP"
      }
    },
    {
      "cell_type": "code",
      "source": [
        "from sklearn.preprocessing import StandardScaler\n",
        "std_scale = StandardScaler().fit_transform(x)\n",
        "std_scale = pd.DataFrame(std_scale)\n",
        "\n",
        "std_scale"
      ],
      "metadata": {
        "id": "GR-GhzRXGRNg"
      },
      "execution_count": null,
      "outputs": []
    },
    {
      "cell_type": "markdown",
      "source": [
        "**4.2.2 Normalization**\n",
        "\n",
        "A way to normalize the input features/variables is the Min-Max scaler. By doing so, all features will be transformed into the range [0,1] meaning that the minimum and maximum value of a feature/variable is going to be 0 and 1, respectively.\n",
        "\n",
        "The main idea behind normalization/standardization is always the same. Variables that are measured at different scales do not contribute equally to the model fitting & model learned function and might end up creating a bias. Thus, to deal with this potential problem feature-wise normalization such as MinMax Scaling is usually used prior to model fitting.\n",
        "\n",
        "reference : https://stackoverflow.com/questions/62178888/can-someone-explain-to-me-how-minmaxscaler-works\n"
      ],
      "metadata": {
        "id": "AdhBeaKIFLfN"
      }
    },
    {
      "cell_type": "code",
      "source": [
        "from sklearn.preprocessing import MinMaxScaler\n",
        "x = MinMaxScaler().fit_transform(x)\n",
        "x = pd.DataFrame(x)\n",
        "\n",
        "x"
      ],
      "metadata": {
        "id": "gtFKYb9DlEhV"
      },
      "execution_count": null,
      "outputs": []
    },
    {
      "cell_type": "markdown",
      "source": [
        "**4.3 Splitting**"
      ],
      "metadata": {
        "id": "U5mVChyqI7e9"
      }
    },
    {
      "cell_type": "code",
      "source": [
        "from sklearn.model_selection import train_test_split\n",
        "xTrain, xTest, yTrain, yTest = train_test_split(x, y, train_size=0.8, random_state=1, stratify=y)"
      ],
      "metadata": {
        "id": "ACJMGLAHigHI"
      },
      "execution_count": null,
      "outputs": []
    },
    {
      "cell_type": "code",
      "source": [
        "from collections import Counter\n",
        "print(\"Train distribution\", Counter(yTrain))\n",
        "print(\"Test distribution\", Counter(yTest))"
      ],
      "metadata": {
        "id": "sSICmqDpMomI"
      },
      "execution_count": null,
      "outputs": []
    },
    {
      "cell_type": "markdown",
      "source": [
        "This stratify parameter makes a split so that the proportion of values in the sample produced will be the same as the proportion of values provided to parameter stratify.\n",
        "\n",
        "For example, if variable y is a binary categorical variable with values 0 and 1 and there are 25% of zeros and 75% of ones, stratify=y will make sure that your random split has 25% of 0's and 75% of 1's.\n",
        "\n",
        "For more: https://stackoverflow.com/questions/34842405/parameter-stratify-from-method-train-test-split-scikit-learn"
      ],
      "metadata": {
        "id": "QyCbWtbCI3v5"
      }
    },
    {
      "cell_type": "markdown",
      "source": [
        "Tugas praktekkan dengan dataset yg berbeda dari kaggle dan upload di github\n"
      ],
      "metadata": {
        "id": "an04NDqXOUHT"
      }
    },
    {
      "cell_type": "code",
      "source": [
        "from sklearn.linear_model import LogisticRegression\n",
        "\n",
        "models = []\n",
        "models.append(('LR', LogisticRegression()))"
      ],
      "metadata": {
        "id": "-9rDCS2vNw0D"
      },
      "execution_count": null,
      "outputs": []
    },
    {
      "cell_type": "code",
      "source": [
        "results_c = []\n",
        "names_c = []\n",
        "\n",
        "for name, model in models:\n",
        "    # define how to split off validation data ('kfold' how many folds)\n",
        "    kfold = KFold(n_splits=10)    \n",
        "    # train the model\n",
        "    cv_results = cross_val_score(model, xTrain, yTrain, cv=kfold, scoring='accuracy')    \n",
        "    results_c.append(cv_results)\n",
        "    names_c.append(name)\n",
        "    msg = \"%s: %f (%f)\" % (name, cv_results.mean(), cv_results.std())\n",
        "    print(msg)"
      ],
      "metadata": {
        "id": "4_yApp8fqKar"
      },
      "execution_count": null,
      "outputs": []
    },
    {
      "cell_type": "code",
      "source": [
        "LR = LogisticRegression()\n",
        "LR.fit(xTrain, yTrain)"
      ],
      "metadata": {
        "id": "xQ1qS0elrBK6"
      },
      "execution_count": null,
      "outputs": []
    },
    {
      "cell_type": "code",
      "source": [
        "predictions = LR.predict(xTest)\n",
        "print(accuracy_score(yTest, predictions))"
      ],
      "metadata": {
        "id": "08s4bURXrm0U"
      },
      "execution_count": null,
      "outputs": []
    },
    {
      "cell_type": "code",
      "source": [
        "# Confusion Matrix \n",
        "from sklearn.metrics import confusion_matrix\n",
        "import pylab as pl\n",
        "\n",
        "print(confusion_matrix(yTest, predictions))\n",
        "\n",
        "cm = confusion_matrix(yTest, predictions)\n",
        "pl.matshow(cm)\n",
        "pl.title('Confusion matrix of the classifier')\n",
        "pl.colorbar()\n",
        "pl.show()"
      ],
      "metadata": {
        "id": "Wh2-d2uCr17a"
      },
      "execution_count": null,
      "outputs": []
    },
    {
      "cell_type": "code",
      "source": [
        "# Classification Report\n",
        "from sklearn.metrics import classification_report\n",
        "print(classification_report(yTest, predictions))"
      ],
      "metadata": {
        "id": "gL6HppHzsRBw"
      },
      "execution_count": null,
      "outputs": []
    },
    {
      "cell_type": "code",
      "execution_count": null,
      "metadata": {
        "id": "OxfpNV63imB-"
      },
      "outputs": [],
      "source": []
    }
  ],
  "metadata": {
    "accelerator": "TPU",
    "colab": {
      "provenance": [],
      "machine_shape": "hm",
      "include_colab_link": true
    },
    "kernelspec": {
      "display_name": "Python 3",
      "name": "python3"
    },
    "gpuClass": "premium"
  },
  "nbformat": 4,
  "nbformat_minor": 0
}